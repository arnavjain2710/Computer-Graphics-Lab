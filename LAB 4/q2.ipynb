{
 "cells": [
  {
   "cell_type": "code",
   "execution_count": 3,
   "metadata": {},
   "outputs": [],
   "source": [
    "import matplotlib.pyplot as plt\n",
    "\n",
    "def midptellipse(rx, ry, xc, yc): \n",
    "    x = 0\n",
    "    y = ry\n",
    "    d1 = ((ry * ry) - (rx * rx * ry) + (0.25 * rx * rx))\n",
    "    dx = 2 * ry * ry * x\n",
    "    dy = 2 * rx * rx * y\n",
    "\n",
    "    x_points = []\n",
    "    y_points = []\n",
    "\n",
    "    while (dx < dy): \n",
    "        x_points.extend([x + xc, -x + xc, x + xc, -x + xc])\n",
    "        y_points.extend([y + yc, y + yc, -y + yc, -y + yc])\n",
    "\n",
    "        if (d1 < 0): \n",
    "            x += 1\n",
    "            dx = dx + (2 * ry * ry)\n",
    "            d1 = d1 + dx + (ry * ry)\n",
    "        else:\n",
    "            x += 1\n",
    "            y -= 1\n",
    "            dx = dx + (2 * ry * ry)\n",
    "            dy = dy - (2 * rx * rx)\n",
    "            d1 = d1 + dx - dy + (ry * ry)\n",
    "\n",
    "    d2 = (((ry * ry) * ((x + 0.5) * (x + 0.5))) +\n",
    "          ((rx * rx) * ((y - 1) * (y - 1))) -\n",
    "          (rx * rx * ry * ry)) \n",
    "\n",
    "    while (y >= 0):\n",
    "        x_points.extend([x + xc, -x + xc, x + xc, -x + xc])\n",
    "        y_points.extend([y + yc, y + yc, -y + yc, -y + yc])\n",
    "\n",
    "        if (d2 > 0):\n",
    "            y -= 1\n",
    "            dy = dy - (2 * rx * rx)\n",
    "            d2 = d2 + (rx * rx) - dy\n",
    "        else:\n",
    "            y -= 1\n",
    "            x += 1\n",
    "            dx = dx + (2 * ry * ry)\n",
    "            dy = dy - (2 * rx * rx)\n",
    "            d2 = d2 + dx - dy + (rx * rx)\n",
    "\n",
    "    plt.scatter(x_points, y_points)\n",
    "    plt.gca().set_aspect('equal', adjustable='box')\n",
    "    plt.show()"
   ]
  },
  {
   "cell_type": "code",
   "execution_count": 6,
   "metadata": {},
   "outputs": [
    {
     "data": {
      "image/png": "[encoded data removed]",
      "text/plain": [
       "<Figure size 640x480 with 1 Axes>"
      ]
     },
     "metadata": {},
     "output_type": "display_data"
    }
   ],
   "source": [
    "midptellipse(20, 10, 0, 0) "
   ]
  }
 ],
 "metadata": {
  "kernelspec": {
   "display_name": "Python 3",
   "language": "python",
   "name": "python3"
  },
  "language_info": {
   "codemirror_mode": {
    "name": "ipython",
    "version": 3
   },
   "file_extension": ".py",
   "mimetype": "text/x-python",
   "name": "python",
   "nbconvert_exporter": "python",
   "pygments_lexer": "ipython3",
   "version": "3.12.3"
  }
 },
 "nbformat": 4,
 "nbformat_minor": 2
}
