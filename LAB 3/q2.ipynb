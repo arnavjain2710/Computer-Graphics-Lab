{
 "cells": [
  {
   "cell_type": "code",
   "execution_count": null,
   "metadata": {},
   "outputs": [
    {
     "name": "stdout",
     "output_type": "stream",
     "text": [
      "Matrix 1:\n",
      "[[3 2 5]\n",
      " [5 8 5]\n",
      " [4 3 6]]\n",
      "Matrix 2:\n",
      "[[5 8 8]\n",
      " [2 7 1]\n",
      " [3 4 8]]\n"
     ]
    }
   ],
   "source": [
    "import numpy as np\n",
    "\n",
    "# Random 3x3 matrices\n",
    "matrix1 = np.random.randint(1, 10, size=(3, 3))\n",
    "matrix2 = np.random.randint(1, 10, size=(3, 3))\n",
    "\n",
    "print(\"Matrix 1:\")\n",
    "print(matrix1)\n",
    "print(\"Matrix 2:\")  \n",
    "print(matrix2)"
   ]
  },
  {
   "cell_type": "code",
   "execution_count": null,
   "metadata": {},
   "outputs": [
    {
     "name": "stdout",
     "output_type": "stream",
     "text": [
      "\n",
      "Element-wise Addition:\n",
      " [[ 8 10 13]\n",
      " [ 7 15  6]\n",
      " [ 7  7 14]]\n",
      "\n",
      "Element-wise Subtraction:\n",
      " [[-2 -6 -3]\n",
      " [ 3  1  4]\n",
      " [ 1 -1 -2]]\n",
      "\n",
      "Element-wise Multiplication:\n",
      " [[15 16 40]\n",
      " [10 56  5]\n",
      " [12 12 48]]\n",
      "\n",
      "Element-wise Division:\n",
      " [[0.6        0.25       0.625     ]\n",
      " [2.5        1.14285714 5.        ]\n",
      " [1.33333333 0.75       0.75      ]]\n"
     ]
    }
   ],
   "source": [
    "addition = matrix1 + matrix2\n",
    "subtraction = matrix1 - matrix2\n",
    "multiplication = matrix1 * matrix2\n",
    "division = matrix1 / matrix2  \n",
    "\n",
    "print(\"\\nElement-wise Addition:\\n\", addition)\n",
    "print(\"\\nElement-wise Subtraction:\\n\", subtraction)\n",
    "print(\"\\nElement-wise Multiplication:\\n\", multiplication)\n",
    "print(\"\\nElement-wise Division:\\n\", division)"
   ]
  },
  {
   "cell_type": "code",
   "execution_count": null,
   "metadata": {},
   "outputs": [
    {
     "name": "stdout",
     "output_type": "stream",
     "text": [
      "\n",
      "Determinant of Matrix 1: -5.99999999999999\n",
      "Determinant of Matrix 2: 51.999999999999964\n"
     ]
    }
   ],
   "source": [
    "# Calculate the determinant \n",
    "det_matrix1 = np.linalg.det(matrix1)\n",
    "det_matrix2 = np.linalg.det(matrix2)\n",
    "\n",
    "print(f\"\\nDeterminant of Matrix 1: {det_matrix1}\")\n",
    "print(f\"Determinant of Matrix 2: {det_matrix2}\")"
   ]
  },
  {
   "cell_type": "code",
   "execution_count": null,
   "metadata": {},
   "outputs": [],
   "source": []
  }
 ],
 "metadata": {
  "kernelspec": {
   "display_name": "Python 3",
   "language": "python",
   "name": "python3"
  },
  "language_info": {
   "codemirror_mode": {
    "name": "ipython",
    "version": 3
   },
   "file_extension": ".py",
   "mimetype": "text/x-python",
   "name": "python",
   "nbconvert_exporter": "python",
   "pygments_lexer": "ipython3",
   "version": "3.12.3"
  }
 },
 "nbformat": 4,
 "nbformat_minor": 2
}
