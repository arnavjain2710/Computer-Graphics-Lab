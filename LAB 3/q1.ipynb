{
 "cells": [
  {
   "cell_type": "code",
   "execution_count": null,
   "metadata": {},
   "outputs": [
    {
     "name": "stdout",
     "output_type": "stream",
     "text": [
      "Original Matrix:\n",
      " [[0.48436866 0.41841968 0.32553889 0.653545  ]\n",
      " [0.76992958 0.11671264 0.88446617 0.18803465]\n",
      " [0.10674165 0.88022166 0.50484133 0.7016461 ]\n",
      " [0.68429226 0.11441269 0.80177283 0.92864889]]\n"
     ]
    }
   ],
   "source": [
    "import numpy as np\n",
    "\n",
    "# Random 4x4 matrix\n",
    "matrix = np.random.rand(4, 4)\n",
    "\n",
    "print(\"Original Matrix:\\n\", matrix)"
   ]
  },
  {
   "cell_type": "code",
   "execution_count": 2,
   "metadata": {},
   "outputs": [
    {
     "name": "stdout",
     "output_type": "stream",
     "text": [
      "Modified Matrix:\n",
      " [[1.         0.41841968 0.32553889 0.653545  ]\n",
      " [1.         0.11671264 0.88446617 0.18803465]\n",
      " [1.         0.88022166 0.50484133 0.7016461 ]\n",
      " [1.         0.11441269 0.80177283 0.92864889]]\n"
     ]
    }
   ],
   "source": [
    "# Replace the first column with all ones\n",
    "matrix[:, 0] = 1\n",
    "\n",
    "print(\"Modified Matrix:\\n\", matrix)"
   ]
  },
  {
   "cell_type": "code",
   "execution_count": null,
   "metadata": {},
   "outputs": [],
   "source": []
  }
 ],
 "metadata": {
  "kernelspec": {
   "display_name": "Python 3",
   "language": "python",
   "name": "python3"
  },
  "language_info": {
   "codemirror_mode": {
    "name": "ipython",
    "version": 3
   },
   "file_extension": ".py",
   "mimetype": "text/x-python",
   "name": "python",
   "nbconvert_exporter": "python",
   "pygments_lexer": "ipython3",
   "version": "3.12.3"
  }
 },
 "nbformat": 4,
 "nbformat_minor": 2
}
