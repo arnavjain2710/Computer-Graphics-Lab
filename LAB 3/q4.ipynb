{
 "cells": [
  {
   "cell_type": "code",
   "execution_count": 1,
   "metadata": {},
   "outputs": [
    {
     "name": "stdout",
     "output_type": "stream",
     "text": [
      "Midpoint between A(2, 3) and B(6, 7) is M(4.0, 5.0)\n"
     ]
    }
   ],
   "source": [
    "def midpoint(x1, y1, x2, y2):\n",
    "    Mx = (x1 + x2) / 2\n",
    "    My = (y1 + y2) / 2\n",
    "    return Mx, My\n",
    "\n",
    "x1, y1 = 2, 3\n",
    "x2, y2 = 6, 7\n",
    "Mx, My = midpoint(x1, y1, x2, y2)\n",
    "\n",
    "print(f\"Midpoint between A({x1}, {y1}) and B({x2}, {y2}) is M({Mx}, {My})\")"
   ]
  },
  {
   "cell_type": "code",
   "execution_count": null,
   "metadata": {},
   "outputs": [],
   "source": []
  }
 ],
 "metadata": {
  "kernelspec": {
   "display_name": "Python 3",
   "language": "python",
   "name": "python3"
  },
  "language_info": {
   "codemirror_mode": {
    "name": "ipython",
    "version": 3
   },
   "file_extension": ".py",
   "mimetype": "text/x-python",
   "name": "python",
   "nbconvert_exporter": "python",
   "pygments_lexer": "ipython3",
   "version": "3.12.3"
  }
 },
 "nbformat": 4,
 "nbformat_minor": 2
}
